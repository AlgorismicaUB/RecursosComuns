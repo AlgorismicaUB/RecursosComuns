{
 "cells": [
  {
   "cell_type": "markdown",
   "metadata": {},
   "source": [
    "<p style=\"text-align:right;font-size:0.9em\">\n",
    "Grau d'Enginyeria Informàtica. Algorísmica. Curs 2017-2018\n",
    "</p>"
   ]
  },
  {
   "cell_type": "markdown",
   "metadata": {},
   "source": [
    "<h1 style=\"height:3em;padding:0.5em 0;font:Garamond;font-size:1-5em;color:#F90;background-color:#005\">\n",
    "Apunts de Python: Paràmetres\n",
    "</h1>"
   ]
  },
  {
   "cell_type": "markdown",
   "metadata": {},
   "source": [
    "Sovint farem funcions que es cridaran entre elles. Per tant ens interessarà que unes a altres es puguin passar les dades i recuperar els resultats."
   ]
  },
  {
   "cell_type": "code",
   "execution_count": 6,
   "metadata": {},
   "outputs": [
    {
     "name": "stdout",
     "output_type": "stream",
     "text": [
      "12\n"
     ]
    }
   ],
   "source": [
    "# Exemple\n",
    "def suma5(num):\n",
    "    return num+5\n",
    "\n",
    "def operacions():\n",
    "    print(suma5(7))\n",
    "       \n",
    "operacions()"
   ]
  },
  {
   "cell_type": "markdown",
   "metadata": {},
   "source": [
    "Totes les funcions, darrera del seu nom, tenen un parèntesi per indicar els paràmetres d'entrada (les dades que necessita la funció per executar-se). Aquests paràmetres són una llista de variables separades per coma i a python no cal indicar-ne el tipus.\n",
    "\n",
    "Quan volem retornar resultats ho fem amb return seguit del resultat. Un return pot tornar més d'un resultat. Quan el programa executa el return surt del programa i ja no executa cap més línia."
   ]
  },
  {
   "cell_type": "code",
   "execution_count": 9,
   "metadata": {},
   "outputs": [
    {
     "name": "stdout",
     "output_type": "stream",
     "text": [
      "8 5\n"
     ]
    }
   ],
   "source": [
    "# Exemple\n",
    "def invertir(a,b):  # els noms dels paràmetres són per a l'ús de la funció\n",
    "    a,b=b,a\n",
    "    return a,b      # retornem dos valors\n",
    "    print(\"Aquest print no es farà mai\")  # no té sentit perquè el return acaba\n",
    "\n",
    "def provaParametres():\n",
    "    x=5\n",
    "    y=8\n",
    "    x,y=invertir(x,y)  # fem la crida amb els paràmetres. Recollim el valor\n",
    "    print(x,y)\n",
    "\n",
    "provaParametres()"
   ]
  },
  {
   "cell_type": "markdown",
   "metadata": {},
   "source": [
    "Tant els paràmetres com el retorn s'han d'indicar al comentari de capçalera de la funció amb les paraules claus :param i :return respectivament."
   ]
  },
  {
   "cell_type": "code",
   "execution_count": 8,
   "metadata": {
    "collapsed": true
   },
   "outputs": [],
   "source": [
    "# Exemple\n",
    "\"\"\"\n",
    "Aquesta funció, inverteix el valor dels nombres donats\n",
    ":param a,b dos continguts\n",
    ":return a,b els continguts intercanviats: a passa a valdre b, i b val a\n",
    "\n",
    "\"\"\"\n",
    "\n",
    "\n",
    "def invertir(a,b):  # els noms dels paràmetres són per a l'ús de la funció\n",
    "    a,b=b,a\n",
    "    return a,b      # retornem dos valors"
   ]
  },
  {
   "cell_type": "markdown",
   "metadata": {},
   "source": [
    "<p style=\"color:#F30\">Atenció (comentari avançat): a Python per defecte els paràmetres es passen per referència, és a dir que si n'alterem el valor dins la funció, n'alterem el valor també a fora. Si és molt important que un paràmetre no canvii de valor, en podem fer una còpia dins la funció i treballar amb la còpia</p>"
   ]
  },
  {
   "cell_type": "markdown",
   "metadata": {},
   "source": [
    "<p style=\"text-align:right;font-size:0.9em\">\n",
    "&copy;Jordi Vitrià i Mireia Ribera\n",
    "</p>"
   ]
  }
 ],
 "metadata": {
  "kernelspec": {
   "display_name": "Python 3",
   "language": "python",
   "name": "python3"
  },
  "language_info": {
   "codemirror_mode": {
    "name": "ipython",
    "version": 3
   },
   "file_extension": ".py",
   "mimetype": "text/x-python",
   "name": "python",
   "nbconvert_exporter": "python",
   "pygments_lexer": "ipython3",
   "version": "3.6.2"
  }
 },
 "nbformat": 4,
 "nbformat_minor": 2
}
