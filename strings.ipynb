{
 "cells": [
  {
   "cell_type": "markdown",
   "metadata": {},
   "source": [
    "<p style=\"text-align:right;font-size:0.9em\">\n",
    "Grau d'Enginyeria Informàtica. Algorísmica. Curs 2017-2018\n",
    "</p>"
   ]
  },
  {
   "cell_type": "markdown",
   "metadata": {},
   "source": [
    "<h1 style=\"height:3em;padding:0.5em 0;font:Garamond;\n",
    "font-size:1-5em;color:#F90;background-color:#005\">\n",
    "Apunts de Python: Strings (o cadenes de text)</h1>"
   ]
  },
  {
   "cell_type": "markdown",
   "metadata": {},
   "source": [
    "Documentació de Python relacionada:\n",
    "- An informal introduction to Python. strings: https://docs.python.org/3/tutorial/introduction.html?#strings\n",
    "- String methods: https://docs.python.org/3/library/stdtypes.html#string-methods\n",
    "- chr(i): https://docs.python.org/3/library/functions.html?#chr\n",
    "- ord(c): https://docs.python.org/3/library/functions.html?#ord"
   ]
  },
  {
   "cell_type": "markdown",
   "metadata": {},
   "source": [
    "A Python el text s'emmagatzema en strings (o cadenes de text), que són una estructura de dades molt similar a les llistes en quant a què a cada caràcter li correspon un índex, podem fer slicing... la diferència més rellevant però és que no podem fer assignacions directes a posicions de la cadena (les cadenes són immutables)."
   ]
  },
  {
   "cell_type": "code",
   "execution_count": 8,
   "metadata": {},
   "outputs": [
    {
     "name": "stdout",
     "output_type": "stream",
     "text": [
      "E\n",
      "Ella\n",
      "Eu\n",
      "ailàluE\n"
     ]
    }
   ],
   "source": [
    "# Exemple\n",
    "nom = \"Eulàlia\"\n",
    "print(nom[0])\n",
    "for i in range(0, len(nom), 2):\n",
    "    print(f\"{nom[i]}\",end=\"\")\n",
    "print()\n",
    "print(nom[0:2])\n",
    "print(nom[::-1])"
   ]
  },
  {
   "cell_type": "code",
   "execution_count": 9,
   "metadata": {},
   "outputs": [
    {
     "ename": "TypeError",
     "evalue": "'str' object does not support item assignment",
     "output_type": "error",
     "traceback": [
      "\u001b[1;31m---------------------------------------------------------------------------\u001b[0m",
      "\u001b[1;31mTypeError\u001b[0m                                 Traceback (most recent call last)",
      "\u001b[1;32m<ipython-input-9-754198d4bbd5>\u001b[0m in \u001b[0;36m<module>\u001b[1;34m()\u001b[0m\n\u001b[0;32m      1\u001b[0m \u001b[1;31m# però...\u001b[0m\u001b[1;33m\u001b[0m\u001b[1;33m\u001b[0m\u001b[0m\n\u001b[1;32m----> 2\u001b[1;33m \u001b[0mnom\u001b[0m\u001b[1;33m[\u001b[0m\u001b[1;36m3\u001b[0m\u001b[1;33m]\u001b[0m\u001b[1;33m=\u001b[0m\u001b[1;34m\"r\"\u001b[0m\u001b[1;33m\u001b[0m\u001b[0m\n\u001b[0m",
      "\u001b[1;31mTypeError\u001b[0m: 'str' object does not support item assignment"
     ]
    }
   ],
   "source": [
    "# però...\n",
    "nom[3]=\"r\""
   ]
  },
  {
   "cell_type": "markdown",
   "metadata": {
    "collapsed": true
   },
   "source": [
    "## Mètodes i funcions per a les cadenes\n",
    "\n",
    "Com que les cadenes de caràcters són una de les dades bàsiques amb les que es treballa, coneixerem algunes funcions que ens resultaran molt útils per aquest curs introductori."
   ]
  },
  {
   "cell_type": "markdown",
   "metadata": {},
   "source": [
    "### split "
   ]
  },
  {
   "cell_type": "markdown",
   "metadata": {},
   "source": [
    "Amb split puc separar una cadena en una llista amb els diferents trossets, indicant el separador."
   ]
  },
  {
   "cell_type": "code",
   "execution_count": 11,
   "metadata": {},
   "outputs": [
    {
     "name": "stdout",
     "output_type": "stream",
     "text": [
      "['456', '342', '120€']\n"
     ]
    }
   ],
   "source": [
    "# Exemple\n",
    "cadena=\"456.342.120€\"\n",
    "llista=cadena.split('.')\n",
    "print(llista)"
   ]
  },
  {
   "cell_type": "markdown",
   "metadata": {},
   "source": [
    "Si no indico un separador, per defecte és l'espai."
   ]
  },
  {
   "cell_type": "code",
   "execution_count": 12,
   "metadata": {},
   "outputs": [
    {
     "name": "stdout",
     "output_type": "stream",
     "text": [
      "['El', 'gos,', 'i', 'el', 'gat,', 'menjàven', 'plegats.']\n"
     ]
    }
   ],
   "source": [
    "# Exemple\n",
    "cadena=\"El gos, i el gat, menjàven plegats.\"\n",
    "llista = cadena.split()\n",
    "print(llista)"
   ]
  },
  {
   "cell_type": "markdown",
   "metadata": {},
   "source": [
    "### join \n",
    "\n",
    "Un dels usos més estesos de join consisteix en convertir llistes a cadenes de text."
   ]
  },
  {
   "cell_type": "code",
   "execution_count": 13,
   "metadata": {},
   "outputs": [
    {
     "name": "stdout",
     "output_type": "stream",
     "text": [
      "El gos, i el gat, menjàven plegats.\n"
     ]
    }
   ],
   "source": [
    "# Exemple\n",
    "llista = ['El', 'gos,', 'i', 'el', 'gat,', 'menjàven', 'plegats.']\n",
    "cadena=\" \".join(llista)  # l'espai farà de separador\n",
    "print(cadena)"
   ]
  },
  {
   "cell_type": "markdown",
   "metadata": {},
   "source": [
    "### strip\n",
    "\n",
    "Elimina els caràcters indicats de l'inici i del final de la cadena, o els espais en blanc si no s'indiquen caràcters específics."
   ]
  },
  {
   "cell_type": "code",
   "execution_count": 14,
   "metadata": {},
   "outputs": [
    {
     "data": {
      "text/plain": [
       "'troducció a Pyth'"
      ]
     },
     "execution_count": 14,
     "metadata": {},
     "output_type": "execute_result"
    }
   ],
   "source": [
    "# Exemple\n",
    "\"introducció a Python\".strip('nio')"
   ]
  },
  {
   "cell_type": "code",
   "execution_count": 15,
   "metadata": {},
   "outputs": [
    {
     "data": {
      "text/plain": [
       "'introducció'"
      ]
     },
     "execution_count": 15,
     "metadata": {},
     "output_type": "execute_result"
    }
   ],
   "source": [
    "\" introducció   \".strip()"
   ]
  },
  {
   "cell_type": "markdown",
   "metadata": {},
   "source": [
    "### islower, isupper i isalpha\n",
    "\n",
    "Verifiquen si la cadena és majúscules, minúscules o tota de lletres respectivament.\n",
    "\n",
    "### lower i upper\n",
    "\n",
    "Converteixen la cadena de majúscules a minúscules i de minúscules a majúscules respectivament."
   ]
  },
  {
   "cell_type": "code",
   "execution_count": 22,
   "metadata": {},
   "outputs": [
    {
     "name": "stdout",
     "output_type": "stream",
     "text": [
      "ENFADAT!  is upper? True\n",
      "ENFADAT!  is lower? False\n",
      "123  is alpha? False\n",
      "a10b  is alpha? False\n",
      "abc  is alpha? True\n",
      "ENFADAT! a lower: enfadat!\n",
      "adormit a uppper: ADORMIT\n"
     ]
    }
   ],
   "source": [
    "# Exemple\n",
    "cadena1 = \"ENFADAT!\"\n",
    "print(cadena1, \" is upper?\", cadena1.isupper())\n",
    "print(cadena1, \" is lower?\", cadena1.islower())\n",
    "cadena2 = \"123\"\n",
    "cadena3 = \"a10b\"\n",
    "cadena4 = \"abc\"\n",
    "print(cadena2, \" is alpha?\", cadena2.isalpha())\n",
    "print(cadena3, \" is alpha?\", cadena3.isalpha())\n",
    "print(cadena4, \" is alpha?\", cadena4.isalpha())\n",
    "print(cadena1, \"a lower:\", cadena1.lower())\n",
    "cadena5 = \"adormit\"\n",
    "print(cadena5, \"a uppper:\", cadena5.upper())"
   ]
  },
  {
   "cell_type": "markdown",
   "metadata": {},
   "source": [
    "## Mètodes i funcions específiques de caràcters\n",
    "\n",
    "A Python els caràcters es codifiquen segons la taula ASCII o UTF8. Això vol dir que a cada caràcter li correspon un codi i que podem convertir del codi al caràcter i viceversa.\n",
    "\n",
    "Per a fer aquestes conversions usarem les funcions chr i ord.\n",
    "\n",
    "Podeu consultar la taula ASCII completa a: https://ca.wikipedia.org/wiki/ASCII#Car.C3.A0cters_imprimibles_ASCII"
   ]
  },
  {
   "cell_type": "code",
   "execution_count": 26,
   "metadata": {},
   "outputs": [
    {
     "name": "stdout",
     "output_type": "stream",
     "text": [
      "L\n",
      "122\n"
     ]
    }
   ],
   "source": [
    "# Exemple\n",
    "\n",
    "print(chr(76))\n",
    "print(ord('z'))"
   ]
  },
  {
   "cell_type": "markdown",
   "metadata": {},
   "source": [
    "<p style=\"text-align:right;font-size:0.9em\">\n",
    "&copy;Jordi Vitrià i Mireia Ribera\n",
    "</p>"
   ]
  }
 ],
 "metadata": {
  "kernelspec": {
   "display_name": "Python 3",
   "language": "python",
   "name": "python3"
  },
  "language_info": {
   "codemirror_mode": {
    "name": "ipython",
    "version": 3
   },
   "file_extension": ".py",
   "mimetype": "text/x-python",
   "name": "python",
   "nbconvert_exporter": "python",
   "pygments_lexer": "ipython3",
   "version": "3.6.2"
  }
 },
 "nbformat": 4,
 "nbformat_minor": 2
}
