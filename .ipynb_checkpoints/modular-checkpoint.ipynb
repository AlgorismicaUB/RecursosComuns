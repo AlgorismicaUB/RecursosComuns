{
 "cells": [
  {
   "cell_type": "markdown",
   "metadata": {},
   "source": [
    "<p style=\"text-align:right;font-size:0.9em\">\n",
    "Grau d'Enginyeria Informàtica. Algorísmica. Curs 2017-2018\n",
    "</p>"
   ]
  },
  {
   "cell_type": "markdown",
   "metadata": {},
   "source": [
    "<h1 style=\"padding:0.5em 0;font:Garamond;font-size:1-5em;color:#F90;background-color:#005\">\n",
    "Apunts de Python: Aritmètica modular\n",
    "</h1>"
   ]
  },
  {
   "cell_type": "markdown",
   "metadata": {},
   "source": [
    "L'aritmètica modular es basa en tot de propietats que compleixen els residus de les divisions en els enters.\n",
    "\n",
    "Aquestes propietats són molt útils en criptografia i en codificació."
   ]
  },
  {
   "cell_type": "code",
   "execution_count": 3,
   "metadata": {},
   "outputs": [
    {
     "name": "stdout",
     "output_type": "stream",
     "text": [
      "12\n",
      "1\n"
     ]
    }
   ],
   "source": [
    "# Els operadors principals de l'aritmètica modular són la divisió entera i el mòdul\n",
    "a=25\n",
    "b=2\n",
    "print(a // b)  # retorna el divisor sense decimals \n",
    "print(a % b)   # retorna el residu"
   ]
  },
  {
   "cell_type": "code",
   "execution_count": 4,
   "metadata": {},
   "outputs": [
    {
     "name": "stdout",
     "output_type": "stream",
     "text": [
      "1\n",
      "1\n",
      "1\n"
     ]
    }
   ],
   "source": [
    "# Fixeu-vos que 1 % x sempre és 1\n",
    "print(1 % 3)\n",
    "print(1 % 12)\n",
    "print(1 % 7)"
   ]
  },
  {
   "cell_type": "markdown",
   "metadata": {},
   "source": [
    "Diem que dos enters són congruents mòdul N quan la seva divisió entera per N obté el mateix residu. Si compleixen aquesta condició ho escriurem:\n",
    "\n",
    "**x ≡ y (mod N)**\n",
    "\n",
    "x és congruent amb y (mod N)\n",
    "si el residu de x // N és el mateix que el residu de y // N\n",
    "\n",
    "això es pot formular de manera més simplificada com:\n",
    "\n",
    "**x ≡ y (mod N) si i només si N divideix (x-y)**\n",
    "\n"
   ]
  },
  {
   "cell_type": "markdown",
   "metadata": {},
   "source": [
    "Gràficament la congruència es pot mostrar amb un recorregut circular:\n",
    "<img src=\"modular.png\" width=\"400\">\n",
    "<p style=\"font-size:0.7em\">Font:Khan Academy ‘Journey into cryptography’ [https://www.khanacademy.org/computing/computer-science/cryptography/modarithmetic/a/modular-addition-and-subtraction] Consultat 27 d'agost de 2017</p>"
   ]
  },
  {
   "cell_type": "code",
   "execution_count": 5,
   "metadata": {},
   "outputs": [
    {
     "name": "stdout",
     "output_type": "stream",
     "text": [
      "3\n",
      "3\n",
      "a és congruent amb b modul 10?  True\n",
      "a és congruent amb b modul 10?  True\n"
     ]
    }
   ],
   "source": [
    "# Exemple\n",
    "a=133\n",
    "b=3\n",
    "modul=10\n",
    "print (a % modul)\n",
    "print (b % modul)\n",
    "print (\"a és congruent amb b modul 10? \",a % modul == b % modul)\n",
    "print (\"a és congruent amb b modul 10? \",(a-b) % modul == 0)"
   ]
  },
  {
   "cell_type": "markdown",
   "metadata": {},
   "source": [
    "Les operacions aritmètiques bàsiques (suma,resta i multiplicació) presenten equivalències si se’ls aplica l’operació mòdul al resultat i als operands. Així es poden realitzar els càlculs de mòduls de manera més eficient. Aquesta és la base teòrica de l’aritmètica modular."
   ]
  },
  {
   "cell_type": "markdown",
   "metadata": {},
   "source": [
    "També a aritmètica modular definim l'**invers multiplicatiu**. Direm que x és l'invers multiplicatiu d'a (mod N) si:\n",
    "\n",
    "a*x ≡ 1 (mod N)\n",
    "\n",
    "Atenció: no tots els nombres tenen un invers multiplicatiu per qualsevol N. "
   ]
  },
  {
   "cell_type": "code",
   "execution_count": 6,
   "metadata": {},
   "outputs": [
    {
     "name": "stdout",
     "output_type": "stream",
     "text": [
      "1\n",
      "1\n"
     ]
    }
   ],
   "source": [
    "# Exemple\n",
    "a = 5\n",
    "x = 10\n",
    "N = 7\n",
    "print((a * x) % N)\n",
    "print(1 % N)\n",
    "\n",
    "# 10 és l'invers multiplicatiu de 5 (mod 7)"
   ]
  },
  {
   "cell_type": "code",
   "execution_count": 7,
   "metadata": {},
   "outputs": [
    {
     "name": "stdout",
     "output_type": "stream",
     "text": [
      "1\n",
      "1\n"
     ]
    }
   ],
   "source": [
    "# suma\n",
    "a = 3\n",
    "b = 7\n",
    "N = 9\n",
    "print((a + b) % N)\n",
    "print((a % N + b % N) % N)"
   ]
  },
  {
   "cell_type": "code",
   "execution_count": 8,
   "metadata": {},
   "outputs": [
    {
     "name": "stdout",
     "output_type": "stream",
     "text": [
      "5\n",
      "5\n"
     ]
    }
   ],
   "source": [
    "# resta\n",
    "a = 3\n",
    "b = 7\n",
    "N = 9\n",
    "print((a - b) % N)\n",
    "print((a % N - b % N) % N)"
   ]
  },
  {
   "cell_type": "code",
   "execution_count": 10,
   "metadata": {},
   "outputs": [
    {
     "name": "stdout",
     "output_type": "stream",
     "text": [
      "3\n",
      "3\n"
     ]
    }
   ],
   "source": [
    "# multiplicació  \n",
    "a = 3\n",
    "b = 7\n",
    "N = 9\n",
    "print((a * b) % N)\n",
    "print((a % N * b % N) % N)"
   ]
  },
  {
   "cell_type": "code",
   "execution_count": 15,
   "metadata": {},
   "outputs": [
    {
     "name": "stdout",
     "output_type": "stream",
     "text": [
      "28\n",
      "28\n",
      "28\n",
      "28\n",
      "28\n"
     ]
    }
   ],
   "source": [
    "# exponenciació\n",
    "\n",
    "x=456\n",
    "y=25\n",
    "N = 43\n",
    "print((x**(y%N))%N)\n",
    "print((x**(0b11001 % N))%N)  # Si expressem el nombre en binari és més fàcil simplificar l'operació\n",
    "print(((x**(0b10000 % N)) * (x**(0b1000 % N)) * (x**(0b1 % N))) % N) \n",
    "              # fem només les potències dels dígits amb un 1\n",
    "# i també\n",
    "print((x**(y%N))%N)\n",
    "print(((x % N)**y) % N)\n"
   ]
  },
  {
   "cell_type": "markdown",
   "metadata": {},
   "source": [
    "Ref. Apunts d'Algorismes numèrics"
   ]
  },
  {
   "cell_type": "markdown",
   "metadata": {},
   "source": [
    "<p style=\"text-align:right;font-size:0.9em\">\n",
    "&copy;Jordi Vitrià i Mireia Ribera\n",
    "</p>"
   ]
  }
 ],
 "metadata": {
  "kernelspec": {
   "display_name": "Python 3",
   "language": "python",
   "name": "python3"
  },
  "language_info": {
   "codemirror_mode": {
    "name": "ipython",
    "version": 3
   },
   "file_extension": ".py",
   "mimetype": "text/x-python",
   "name": "python",
   "nbconvert_exporter": "python",
   "pygments_lexer": "ipython3",
   "version": "3.6.2"
  }
 },
 "nbformat": 4,
 "nbformat_minor": 2
}
